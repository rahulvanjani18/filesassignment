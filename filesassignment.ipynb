{
  "nbformat": 4,
  "nbformat_minor": 0,
  "metadata": {
    "colab": {
      "provenance": []
    },
    "kernelspec": {
      "name": "python3",
      "display_name": "Python 3"
    },
    "language_info": {
      "name": "python"
    }
  },
  "cells": [
    {
      "cell_type": "markdown",
      "source": [
        "# 1. What is the difference between interpreted and compiled languages?\n",
        "> Interpreted languages execute code line-by-line at runtime, while compiled languages convert the entire code to machine language before execution.\n",
        "# ---------------------------------------------------------------------\n",
        "\n",
        "# 2. What is exception handling in Python?\n",
        "> Exception handling in Python is the process of responding to runtime errors using try, except, else, and finally blocks to prevent program crashes.\n",
        "# ---------------------------------------------------------------------\n",
        "\n",
        "# 3. What is the purpose of the finally block in exception handling?\n",
        "> The finally block is used to execute code regardless of whether an exception was raised or not, typically for cleanup actions.\n",
        "# ---------------------------------------------------------------------\n",
        "\n",
        "# 4. What is logging in Python?\n",
        "> Logging in Python is a module that records messages about a program's execution, such as warnings, errors, or informational events.\n",
        "# ---------------------------------------------------------------------\n",
        "\n",
        "# 5. What is the significance of the __del__ method in Python?\n",
        "> The __del__ method is a destructor method that is automatically called when an object is about to be destroyed, used to release resources.\n",
        "# ---------------------------------------------------------------------\n",
        "\n",
        "# 6. What is the difference between import and from ... import in Python?\n",
        "> import module loads the entire module, while from module import item loads only specific functions, classes, or variables from the module.\n",
        "# ---------------------------------------------------------------------\n",
        "\n",
        "# 7. How can you handle multiple exceptions in Python?\n",
        "> Multiple exceptions can be handled by using multiple except blocks or grouping exceptions in a single except block using parentheses.\n",
        "# ---------------------------------------------------------------------\n",
        "\n",
        "# 8. What is the purpose of the with statement when handling files in Python?\n",
        "> The with statement ensures that files are properly opened and closed, handling resource management automatically and safely.\n",
        "# ---------------------------------------------------------------------\n",
        "\n",
        "# 9. What is the difference between multithreading and multiprocessing?\n",
        "> Multithreading allows concurrent execution of multiple threads within the same process, while multiprocessing runs separate processes with independent memory space.\n",
        "# ---------------------------------------------------------------------\n",
        "\n",
        "# 10. What are the advantages of using logging in a program?\n",
        "> Logging helps track issues, debug efficiently, monitor system behavior, and maintain a permanent record of events during program execution.\n",
        "# ---------------------------------------------------------------------\n",
        "\n",
        "# 11. What is memory management in Python?\n",
        "> Memory management in Python refers to the internal processes that handle the allocation, use, and deallocation of memory during program execution.\n",
        "# ---------------------------------------------------------------------\n",
        "\n",
        "# 12. What are the basic steps involved in exception handling in Python?\n",
        "> The basic steps include placing risky code inside a try block, catching exceptions with except, optionally running else if no exception occurs, and using finally for cleanup.\n",
        "# ---------------------------------------------------------------------\n",
        "\n",
        "# 13. Why is memory management important in Python?\n",
        "> Memory management ensures efficient use of system memory, prevents memory leaks, and keeps applications running smoothly without crashing.\n",
        "# ---------------------------------------------------------------------\n",
        "\n",
        "# 14. What is the role of try and except in exception handling?\n",
        "> The try block contains code that might raise an exception, and the except block catches and handles the exception to prevent program termination.\n",
        "# ---------------------------------------------------------------------\n",
        "\n",
        "# 15. How does Python's garbage collection system work?\n",
        "> Python's garbage collector automatically identifies and frees memory occupied by objects no longer in use using reference counting and a cyclic garbage collector.\n",
        "# ---------------------------------------------------------------------\n",
        "\n",
        "# 16. What is the purpose of the else block in exception handling?\n",
        "> The else block runs if no exception occurs in the try block, allowing separation of error-free code from error-handling logic.\n",
        "# ---------------------------------------------------------------------\n",
        "\n",
        "# 17. What are the common logging levels in Python?\n",
        "> The common logging levels are DEBUG, INFO, WARNING, ERROR, and CRITICAL, each indicating the severity of an event.\n",
        "# ---------------------------------------------------------------------\n",
        "\n",
        "# 18. What is the difference between os.fork() and multiprocessing in Python?\n",
        "> os.fork() creates a child process using a low-level system call (Unix-only), while multiprocessing is a cross-platform module that spawns separate Python processes with better abstraction.\n",
        "# ---------------------------------------------------------------------\n",
        "\n",
        "# 19. What is the importance of closing a file in Python?\n",
        "> Closing a file ensures that data is properly saved, file handles are released, and system resources are not unnecessarily used.\n",
        "# ---------------------------------------------------------------------\n",
        "\n",
        "# 20. What is the difference between file.read() and file.readline() in Python?\n",
        "> file.read() reads the entire file content as a single string, while file.readline() reads one line at a time from the file.\n",
        "# ---------------------------------------------------------------------\n",
        "\n",
        "# 21. What is the logging module in Python used for?\n",
        "> The logging module is used to record messages about a program's execution, including information, warnings, errors, and debugging output.\n",
        "# ---------------------------------------------------------------------\n",
        "\n",
        "# 22. What is the os module in Python used for in file handling?\n",
        "> The os module provides functions to interact with the operating system, such as creating, deleting, renaming, and navigating directories and files.\n",
        "# ---------------------------------------------------------------------\n",
        "\n",
        "# 23. What are the challenges associated with memory management in Python?\n",
        "> Challenges include managing circular references, preventing memory leaks, and ensuring timely deallocation of large or unused objects.\n",
        "# ---------------------------------------------------------------------\n",
        "\n",
        "# 24. How do you raise an exception manually in Python?\n",
        "> You raise an exception manually using the raise statement followed by an exception type.\n",
        "# ---------------------------------------------------------------------\n",
        "\n",
        "# 25. Why is it important to use multithreading in certain applications?\n",
        "> Multithreading improves performance in I/O-bound applications by allowing concurrent execution, reducing wait time and increasing responsiveness.\n",
        "# ---------------------------------------------------------------------\n",
        "\n",
        "\n"
      ],
      "metadata": {
        "id": "RIR3cjZMBZd6"
      }
    },
    {
      "cell_type": "markdown",
      "source": [],
      "metadata": {
        "id": "Ycya5n1QBbTc"
      }
    },
    {
      "cell_type": "code",
      "source": [
        "#PRACTICAL QUESTIONS\n",
        "\n",
        "# 1. How can you open a file for writing in Python and write a string to it?\n",
        "with open(\"example.txt\", \"w\") as file:\n",
        "    file.write(\"This is a sample string.\")\n"
      ],
      "metadata": {
        "id": "tsywa38VDDrt"
      },
      "execution_count": 3,
      "outputs": []
    },
    {
      "cell_type": "code",
      "source": [
        "# 2. Write a Python program to read the contents of a file and print each line\n",
        "with open(\"example.txt\", \"r\") as file:\n",
        "    for line in file:\n",
        "        print(line.strip())\n"
      ],
      "metadata": {
        "colab": {
          "base_uri": "https://localhost:8080/"
        },
        "id": "LqYAtUN1D4ay",
        "outputId": "7a717f5a-577c-49b5-c0ac-70124f60812a"
      },
      "execution_count": 4,
      "outputs": [
        {
          "output_type": "stream",
          "name": "stdout",
          "text": [
            "This is a sample string.\n"
          ]
        }
      ]
    },
    {
      "cell_type": "code",
      "source": [
        "# 3. How would you handle a case where the file doesn't exist while trying to open it for reading?\n",
        "try:\n",
        "    with open(\"nonexistent.txt\", \"r\") as file:\n",
        "        content = file.read()\n",
        "except FileNotFoundError:\n",
        "    print(\"File not found.\")\n"
      ],
      "metadata": {
        "colab": {
          "base_uri": "https://localhost:8080/"
        },
        "id": "ik87rbdwD8YP",
        "outputId": "69ddb477-9721-4179-8a18-d279c75e40e2"
      },
      "execution_count": 5,
      "outputs": [
        {
          "output_type": "stream",
          "name": "stdout",
          "text": [
            "File not found.\n"
          ]
        }
      ]
    },
    {
      "cell_type": "code",
      "source": [
        "# 4. Write a Python script that reads from one file and writes its content to another file\n",
        "with open(\"source.txt\", \"r\") as src, open(\"destination.txt\", \"w\") as dest:\n",
        "    for line in src:\n",
        "        dest.write(line)\n"
      ],
      "metadata": {
        "colab": {
          "base_uri": "https://localhost:8080/",
          "height": 193
        },
        "id": "as0U-CYcEBau",
        "outputId": "08e0c796-2344-4cff-8880-23c6f1397561"
      },
      "execution_count": 6,
      "outputs": [
        {
          "output_type": "error",
          "ename": "FileNotFoundError",
          "evalue": "[Errno 2] No such file or directory: 'source.txt'",
          "traceback": [
            "\u001b[0;31m---------------------------------------------------------------------------\u001b[0m",
            "\u001b[0;31mFileNotFoundError\u001b[0m                         Traceback (most recent call last)",
            "\u001b[0;32m/tmp/ipython-input-6-818505467.py\u001b[0m in \u001b[0;36m<cell line: 0>\u001b[0;34m()\u001b[0m\n\u001b[1;32m      1\u001b[0m \u001b[0;31m# 4. Write a Python script that reads from one file and writes its content to another file\u001b[0m\u001b[0;34m\u001b[0m\u001b[0;34m\u001b[0m\u001b[0m\n\u001b[0;32m----> 2\u001b[0;31m \u001b[0;32mwith\u001b[0m \u001b[0mopen\u001b[0m\u001b[0;34m(\u001b[0m\u001b[0;34m\"source.txt\"\u001b[0m\u001b[0;34m,\u001b[0m \u001b[0;34m\"r\"\u001b[0m\u001b[0;34m)\u001b[0m \u001b[0;32mas\u001b[0m \u001b[0msrc\u001b[0m\u001b[0;34m,\u001b[0m \u001b[0mopen\u001b[0m\u001b[0;34m(\u001b[0m\u001b[0;34m\"destination.txt\"\u001b[0m\u001b[0;34m,\u001b[0m \u001b[0;34m\"w\"\u001b[0m\u001b[0;34m)\u001b[0m \u001b[0;32mas\u001b[0m \u001b[0mdest\u001b[0m\u001b[0;34m:\u001b[0m\u001b[0;34m\u001b[0m\u001b[0;34m\u001b[0m\u001b[0m\n\u001b[0m\u001b[1;32m      3\u001b[0m     \u001b[0;32mfor\u001b[0m \u001b[0mline\u001b[0m \u001b[0;32min\u001b[0m \u001b[0msrc\u001b[0m\u001b[0;34m:\u001b[0m\u001b[0;34m\u001b[0m\u001b[0;34m\u001b[0m\u001b[0m\n\u001b[1;32m      4\u001b[0m         \u001b[0mdest\u001b[0m\u001b[0;34m.\u001b[0m\u001b[0mwrite\u001b[0m\u001b[0;34m(\u001b[0m\u001b[0mline\u001b[0m\u001b[0;34m)\u001b[0m\u001b[0;34m\u001b[0m\u001b[0;34m\u001b[0m\u001b[0m\n",
            "\u001b[0;31mFileNotFoundError\u001b[0m: [Errno 2] No such file or directory: 'source.txt'"
          ]
        }
      ]
    },
    {
      "cell_type": "code",
      "source": [
        "# 5. How would you catch and handle division by zero error in Python?\n",
        "try:\n",
        "    a = 10 / 0\n",
        "except ZeroDivisionError:\n",
        "    print(\"Cannot divide by zero.\")\n"
      ],
      "metadata": {
        "colab": {
          "base_uri": "https://localhost:8080/"
        },
        "id": "0iN7XAlGEEzL",
        "outputId": "01b18d72-88e3-404c-d0d3-6ce3b47c1518"
      },
      "execution_count": 7,
      "outputs": [
        {
          "output_type": "stream",
          "name": "stdout",
          "text": [
            "Cannot divide by zero.\n"
          ]
        }
      ]
    },
    {
      "cell_type": "code",
      "source": [
        "# 8. Write a program to handle a file opening error using exception handling\n",
        "try:\n",
        "    with open(\"missing.txt\", \"r\") as file:\n",
        "        print(file.read())\n",
        "except IOError:\n",
        "    print(\"An error occurred while trying to open the file.\")\n"
      ],
      "metadata": {
        "colab": {
          "base_uri": "https://localhost:8080/"
        },
        "id": "m6cdy68xEJVm",
        "outputId": "e805b295-459d-4815-f7fb-a61cde91c31c"
      },
      "execution_count": 8,
      "outputs": [
        {
          "output_type": "stream",
          "name": "stdout",
          "text": [
            "An error occurred while trying to open the file.\n"
          ]
        }
      ]
    },
    {
      "cell_type": "code",
      "source": [
        "# 9. How can you read a file line by line and store its content in a list in Python?\n",
        "with open(\"example.txt\", \"r\") as file:\n",
        "    lines = file.readlines()\n",
        "print(lines)\n"
      ],
      "metadata": {
        "colab": {
          "base_uri": "https://localhost:8080/"
        },
        "id": "rTgV0a-vENhl",
        "outputId": "14e1fca8-4a6a-4809-cba1-560d1ce2a631"
      },
      "execution_count": 10,
      "outputs": [
        {
          "output_type": "stream",
          "name": "stdout",
          "text": [
            "['This is a sample string.']\n"
          ]
        }
      ]
    },
    {
      "cell_type": "code",
      "source": [
        "# 10. How can you append data to an existing file in Python?\n",
        "with open(\"example.txt\", \"a\") as file:\n",
        "    file.write(\"\\nAppended line.\")\n"
      ],
      "metadata": {
        "id": "Vaya8MWXEVsa"
      },
      "execution_count": 11,
      "outputs": []
    },
    {
      "cell_type": "code",
      "source": [
        "# 11. Write a Python program that uses a try-except block to handle an error when attempting to access a dictionary key that doesn't exist\n",
        "try:\n",
        "    my_dict = {\"a\": 1, \"b\": 2}\n",
        "    print(my_dict[\"c\"])\n",
        "except KeyError:\n",
        "    print(\"Key not found in dictionary.\")\n"
      ],
      "metadata": {
        "colab": {
          "base_uri": "https://localhost:8080/"
        },
        "id": "RLGMDAciEYyz",
        "outputId": "24972b37-60f7-4d2b-f666-9495f10c0208"
      },
      "execution_count": 12,
      "outputs": [
        {
          "output_type": "stream",
          "name": "stdout",
          "text": [
            "Key not found in dictionary.\n"
          ]
        }
      ]
    },
    {
      "cell_type": "code",
      "source": [
        "# 12. Write a program that demonstrates using multiple except blocks to handle different types of exceptions\n",
        "try:\n",
        "    x = int(\"abc\")\n",
        "    y = 10 / 0\n",
        "except ValueError:\n",
        "    print(\"ValueError occurred.\")\n",
        "except ZeroDivisionError:\n",
        "    print(\"ZeroDivisionError occurred.\")\n"
      ],
      "metadata": {
        "colab": {
          "base_uri": "https://localhost:8080/"
        },
        "id": "1oy6suQGEquW",
        "outputId": "8a24c130-705c-4543-872e-5e20bf94a178"
      },
      "execution_count": 13,
      "outputs": [
        {
          "output_type": "stream",
          "name": "stdout",
          "text": [
            "ValueError occurred.\n"
          ]
        }
      ]
    },
    {
      "cell_type": "code",
      "source": [
        "# 13. How would you check if a file exists before attempting to read it in Python?\n",
        "import os\n",
        "if os.path.exists(\"example.txt\"):\n",
        "    with open(\"example.txt\", \"r\") as file:\n",
        "        print(file.read())\n",
        "else:\n",
        "    print(\"File does not exist.\")\n"
      ],
      "metadata": {
        "colab": {
          "base_uri": "https://localhost:8080/"
        },
        "id": "wDCilUCcEvPq",
        "outputId": "94d41219-f8dd-4385-a3dd-3724df0c3aed"
      },
      "execution_count": 14,
      "outputs": [
        {
          "output_type": "stream",
          "name": "stdout",
          "text": [
            "This is a sample string.\n",
            "Appended line.\n"
          ]
        }
      ]
    },
    {
      "cell_type": "code",
      "source": [
        "# 14. Write a program that uses the logging module to log both informational and error messages\n",
        "import logging\n",
        "logging.basicConfig(filename=\"app.log\", level=logging.INFO)\n",
        "logging.info(\"This is an info message.\")\n",
        "logging.error(\"This is an error message.\")\n"
      ],
      "metadata": {
        "colab": {
          "base_uri": "https://localhost:8080/"
        },
        "id": "nuNkdmUAEy2B",
        "outputId": "9508ea1b-794b-4849-e553-b8946e5f4a96"
      },
      "execution_count": 15,
      "outputs": [
        {
          "output_type": "stream",
          "name": "stderr",
          "text": [
            "ERROR:root:This is an error message.\n"
          ]
        }
      ]
    },
    {
      "cell_type": "code",
      "source": [
        "# 15. Write a Python program that prints the content of a file and handles the case when the file is empty\n",
        "with open(\"example.txt\", \"r\") as file:\n",
        "    content = file.read()\n",
        "    if content:\n",
        "        print(content)\n",
        "    else:\n",
        "        print(\"File is empty.\")\n"
      ],
      "metadata": {
        "colab": {
          "base_uri": "https://localhost:8080/"
        },
        "id": "5JvKdwbVE2m9",
        "outputId": "69deebc8-a572-4f67-abc5-bf04f5c62218"
      },
      "execution_count": 16,
      "outputs": [
        {
          "output_type": "stream",
          "name": "stdout",
          "text": [
            "This is a sample string.\n",
            "Appended line.\n"
          ]
        }
      ]
    },
    {
      "cell_type": "code",
      "source": [
        "# 16. Demonstrate how to use memory profiling to check the memory usage of a small program\n",
        "# Install memory_profiler before running: !pip install -q memory_profiler\n",
        "from memory_profiler import profile\n",
        "\n",
        "@profile\n",
        "def my_func():\n",
        "    a = [i for i in range(10000)]\n",
        "    return sum(a)\n",
        "\n",
        "my_func()\n"
      ],
      "metadata": {
        "colab": {
          "base_uri": "https://localhost:8080/",
          "height": 383
        },
        "id": "v9g9dzcBE5C9",
        "outputId": "c0494ea6-450a-4a5f-c19b-e6fc55162821"
      },
      "execution_count": 17,
      "outputs": [
        {
          "output_type": "error",
          "ename": "ModuleNotFoundError",
          "evalue": "No module named 'memory_profiler'",
          "traceback": [
            "\u001b[0;31m---------------------------------------------------------------------------\u001b[0m",
            "\u001b[0;31mModuleNotFoundError\u001b[0m                       Traceback (most recent call last)",
            "\u001b[0;32m/tmp/ipython-input-17-4215270386.py\u001b[0m in \u001b[0;36m<cell line: 0>\u001b[0;34m()\u001b[0m\n\u001b[1;32m      1\u001b[0m \u001b[0;31m# 16. Demonstrate how to use memory profiling to check the memory usage of a small program\u001b[0m\u001b[0;34m\u001b[0m\u001b[0;34m\u001b[0m\u001b[0m\n\u001b[1;32m      2\u001b[0m \u001b[0;31m# Install memory_profiler before running: !pip install -q memory_profiler\u001b[0m\u001b[0;34m\u001b[0m\u001b[0;34m\u001b[0m\u001b[0m\n\u001b[0;32m----> 3\u001b[0;31m \u001b[0;32mfrom\u001b[0m \u001b[0mmemory_profiler\u001b[0m \u001b[0;32mimport\u001b[0m \u001b[0mprofile\u001b[0m\u001b[0;34m\u001b[0m\u001b[0;34m\u001b[0m\u001b[0m\n\u001b[0m\u001b[1;32m      4\u001b[0m \u001b[0;34m\u001b[0m\u001b[0m\n\u001b[1;32m      5\u001b[0m \u001b[0;34m@\u001b[0m\u001b[0mprofile\u001b[0m\u001b[0;34m\u001b[0m\u001b[0;34m\u001b[0m\u001b[0m\n",
            "\u001b[0;31mModuleNotFoundError\u001b[0m: No module named 'memory_profiler'",
            "",
            "\u001b[0;31m---------------------------------------------------------------------------\u001b[0;32m\nNOTE: If your import is failing due to a missing package, you can\nmanually install dependencies using either !pip or !apt.\n\nTo view examples of installing some common dependencies, click the\n\"Open Examples\" button below.\n\u001b[0;31m---------------------------------------------------------------------------\u001b[0m\n"
          ],
          "errorDetails": {
            "actions": [
              {
                "action": "open_url",
                "actionText": "Open Examples",
                "url": "/notebooks/snippets/importing_libraries.ipynb"
              }
            ]
          }
        }
      ]
    },
    {
      "cell_type": "code",
      "source": [
        "# 17. Write a Python program to create and write a list of numbers to a file, one number per line\n",
        "numbers = [1, 2, 3, 4, 5]\n",
        "with open(\"numbers.txt\", \"w\") as file:\n",
        "    for num in numbers:\n",
        "        file.write(str(num) + \"\\n\")\n"
      ],
      "metadata": {
        "id": "8VlyTK-1E7qx"
      },
      "execution_count": 18,
      "outputs": []
    },
    {
      "cell_type": "code",
      "source": [
        "# 18. How would you implement a basic logging setup that logs to a file with rotation after 1MB?\n",
        "import logging\n",
        "from logging.handlers import RotatingFileHandler\n",
        "\n",
        "logger = logging.getLogger(\"my_logger\")\n",
        "logger.setLevel(logging.INFO)\n",
        "\n",
        "handler = RotatingFileHandler(\"rotating.log\", maxBytes=1048576, backupCount=3)\n",
        "logger.addHandler(handler)\n",
        "\n",
        "logger.info(\"This is a test log message.\")\n"
      ],
      "metadata": {
        "colab": {
          "base_uri": "https://localhost:8080/"
        },
        "id": "j-w9bBhGFAIa",
        "outputId": "3c7de511-bc2c-41aa-8630-2c694e3c9790"
      },
      "execution_count": 19,
      "outputs": [
        {
          "output_type": "stream",
          "name": "stderr",
          "text": [
            "INFO:my_logger:This is a test log message.\n"
          ]
        }
      ]
    },
    {
      "cell_type": "code",
      "source": [
        "# 19. Write a program that handles both IndexError and KeyError using a try-except block\n",
        "try:\n",
        "    lst = [1, 2, 3]\n",
        "    print(lst[5])\n",
        "    d = {\"a\": 1}\n",
        "    print(d[\"b\"])\n",
        "except IndexError:\n",
        "    print(\"IndexError occurred.\")\n",
        "except KeyError:\n",
        "    print(\"KeyError occurred.\")\n"
      ],
      "metadata": {
        "colab": {
          "base_uri": "https://localhost:8080/"
        },
        "id": "9LIoKP-EFDIg",
        "outputId": "8a8cc176-5253-4da5-99fc-94400562efcb"
      },
      "execution_count": 20,
      "outputs": [
        {
          "output_type": "stream",
          "name": "stdout",
          "text": [
            "IndexError occurred.\n"
          ]
        }
      ]
    },
    {
      "cell_type": "code",
      "source": [
        "# 20. How would you open a file and read its contents using a context manager in Python?\n",
        "with open(\"example.txt\", \"r\") as file:\n",
        "    content = file.read()\n",
        "    print(content)\n"
      ],
      "metadata": {
        "colab": {
          "base_uri": "https://localhost:8080/"
        },
        "id": "G_d6Zet4FHxN",
        "outputId": "4f97dd86-ce17-4e1b-b117-d2d4c47298d5"
      },
      "execution_count": 21,
      "outputs": [
        {
          "output_type": "stream",
          "name": "stdout",
          "text": [
            "This is a sample string.\n",
            "Appended line.\n"
          ]
        }
      ]
    },
    {
      "cell_type": "code",
      "source": [
        "# 21. Write a Python program that reads a file and prints the number of occurrences of a specific word\n",
        "word = \"python\"\n",
        "count = 0\n",
        "with open(\"example.txt\", \"r\") as file:\n",
        "    for line in file:\n",
        "        count += line.lower().count(word.lower())\n",
        "print(\"Occurrences of\", word, \":\", count)\n"
      ],
      "metadata": {
        "colab": {
          "base_uri": "https://localhost:8080/"
        },
        "id": "dlIXkFUNFKpr",
        "outputId": "0651c245-e6fe-4c57-f06f-b82af26d0d5f"
      },
      "execution_count": 22,
      "outputs": [
        {
          "output_type": "stream",
          "name": "stdout",
          "text": [
            "Occurrences of python : 0\n"
          ]
        }
      ]
    },
    {
      "cell_type": "code",
      "source": [
        "# 22. How can you check if a file is empty before attempting to read its contents?\n",
        "import os\n",
        "if os.path.exists(\"example.txt\") and os.stat(\"example.txt\").st_size == 0:\n",
        "    print(\"File is empty.\")\n",
        "else:\n",
        "    with open(\"example.txt\", \"r\") as file:\n",
        "        print(file.read())\n"
      ],
      "metadata": {
        "colab": {
          "base_uri": "https://localhost:8080/"
        },
        "id": "9N25LJU_FOFC",
        "outputId": "ab96b02f-2044-432a-e44a-5e4fe98ea825"
      },
      "execution_count": 23,
      "outputs": [
        {
          "output_type": "stream",
          "name": "stdout",
          "text": [
            "This is a sample string.\n",
            "Appended line.\n"
          ]
        }
      ]
    },
    {
      "cell_type": "code",
      "source": [
        "# 23. Write a Python program that writes to a log file when an error occurs during file handling\n",
        "import logging\n",
        "logging.basicConfig(filename=\"file_errors.log\", level=logging.ERROR)\n",
        "\n",
        "try:\n",
        "    with open(\"nofile.txt\", \"r\") as file:\n",
        "        data = file.read()\n",
        "except Exception as e:\n",
        "    logging.error(\"Error reading file: %s\", e)\n"
      ],
      "metadata": {
        "colab": {
          "base_uri": "https://localhost:8080/"
        },
        "id": "8EorfDH4FQYA",
        "outputId": "53e2e588-af12-49bf-8a6b-1ed161608646"
      },
      "execution_count": 24,
      "outputs": [
        {
          "output_type": "stream",
          "name": "stderr",
          "text": [
            "ERROR:root:Error reading file: [Errno 2] No such file or directory: 'nofile.txt'\n"
          ]
        }
      ]
    },
    {
      "cell_type": "code",
      "source": [],
      "metadata": {
        "id": "sY0-9U92FSqB"
      },
      "execution_count": null,
      "outputs": []
    }
  ]
}